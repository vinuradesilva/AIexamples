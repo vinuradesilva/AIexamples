{
 "cells": [
  {
   "cell_type": "code",
   "execution_count": 1,
   "id": "dc8c2b01-87ed-4250-a1e7-ecde57a719ad",
   "metadata": {},
   "outputs": [],
   "source": [
    "from collections import deque"
   ]
  },
  {
   "cell_type": "code",
   "execution_count": 3,
   "id": "b8d1ee51-2a47-48b3-ad19-0684242a0e2e",
   "metadata": {},
   "outputs": [],
   "source": [
    "def bfs(adj):\n",
    "    v = len(adj)\n",
    "    res = []\n",
    "    s = 0\n",
    "    q = deque()\n",
    "    visited = [False] * v\n",
    "    visited[s] = True\n",
    "    q.append(s)\n",
    "\n",
    "    while q:\n",
    "        curr = q.popleft()\n",
    "        res.append(curr)\n",
    "\n",
    "        for i in adj[curr]:\n",
    "            if not visited[i]:\n",
    "                visited[i] = True\n",
    "                q.append(i)\n",
    "    return res"
   ]
  },
  {
   "cell_type": "code",
   "execution_count": 4,
   "id": "41281c2d-4591-420b-8394-aa1a4f2534c9",
   "metadata": {},
   "outputs": [
    {
     "data": {
      "text/plain": [
       "[0, 1, 2, 3, 4]"
      ]
     },
     "execution_count": 4,
     "metadata": {},
     "output_type": "execute_result"
    }
   ],
   "source": [
    "a = [[1,2], [0,2,3], [0,4], [1,4], [2,3]] #Adjacency list\n",
    "bfs(a)"
   ]
  },
  {
   "cell_type": "code",
   "execution_count": null,
   "id": "e948c7a1-00e3-45f6-8601-27d7273c4259",
   "metadata": {},
   "outputs": [],
   "source": []
  }
 ],
 "metadata": {
  "kernelspec": {
   "display_name": "Python 3 (ipykernel)",
   "language": "python",
   "name": "python3"
  },
  "language_info": {
   "codemirror_mode": {
    "name": "ipython",
    "version": 3
   },
   "file_extension": ".py",
   "mimetype": "text/x-python",
   "name": "python",
   "nbconvert_exporter": "python",
   "pygments_lexer": "ipython3",
   "version": "3.13.5"
  }
 },
 "nbformat": 4,
 "nbformat_minor": 5
}
