{
 "cells": [
  {
   "cell_type": "code",
   "execution_count": 1,
   "id": "0b081e9b-8fb1-427b-b6f3-ff8e069d925a",
   "metadata": {},
   "outputs": [],
   "source": [
    "from collections import deque"
   ]
  },
  {
   "cell_type": "code",
   "execution_count": 6,
   "id": "d9c7ca11-8c0b-4de0-a7bc-09d59fe3f26e",
   "metadata": {},
   "outputs": [],
   "source": [
    "def dfs(adj):\n",
    "    v = len(adj)\n",
    "    res = []\n",
    "    s = 0\n",
    "    visited = [False] * v\n",
    "\n",
    "    def dfs_visit(curr):\n",
    "        visited[curr] = True\n",
    "        res.append(curr)\n",
    "\n",
    "        for i in adj[curr]:\n",
    "            if not visited[i]:\n",
    "                dfs_visit(i)\n",
    "    dfs_visit(s)\n",
    "    return res"
   ]
  },
  {
   "cell_type": "code",
   "execution_count": 8,
   "id": "b280e2d1-6dde-4a13-82a1-38020a1c3276",
   "metadata": {},
   "outputs": [
    {
     "data": {
      "text/plain": [
       "[0, 1, 2, 4, 3]"
      ]
     },
     "execution_count": 8,
     "metadata": {},
     "output_type": "execute_result"
    }
   ],
   "source": [
    "a = [[1,2], [0,2,3], [0,4], [1,4], [2,3]] #Adjacency list\n",
    "dfs(a)"
   ]
  },
  {
   "cell_type": "code",
   "execution_count": null,
   "id": "0e9cc53b-254e-4790-bbac-b5755fce9634",
   "metadata": {},
   "outputs": [],
   "source": []
  }
 ],
 "metadata": {
  "kernelspec": {
   "display_name": "Python 3 (ipykernel)",
   "language": "python",
   "name": "python3"
  },
  "language_info": {
   "codemirror_mode": {
    "name": "ipython",
    "version": 3
   },
   "file_extension": ".py",
   "mimetype": "text/x-python",
   "name": "python",
   "nbconvert_exporter": "python",
   "pygments_lexer": "ipython3",
   "version": "3.13.5"
  }
 },
 "nbformat": 4,
 "nbformat_minor": 5
}
